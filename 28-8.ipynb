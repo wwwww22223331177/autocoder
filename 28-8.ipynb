{
 "cells": [
  {
   "cell_type": "code",
   "execution_count": 2,
   "metadata": {},
   "outputs": [],
   "source": [
    "import torch\n",
    "import torch.nn as nn\n",
    "import torchvision\n",
    "import torchvision.transforms as transforms\n",
    "import matplotlib.pyplot as plt\n",
    "\n",
    "# 加载MNIST数据集\n",
    "transform = transforms.Compose([transforms.ToTensor()])\n",
    "trainset = torchvision.datasets.MNIST(root='./data', train=True, download=False, transform=transform)\n",
    "trainloader = torch.utils.data.DataLoader(trainset, batch_size=64, shuffle=True)\n"
   ]
  },
  {
   "cell_type": "code",
   "execution_count": 3,
   "metadata": {},
   "outputs": [
    {
     "name": "stdout",
     "output_type": "stream",
     "text": [
      "Epoch 1, Loss: 0.02076217299823695\n",
      "Epoch 2, Loss: 0.010134859527868313\n",
      "Epoch 3, Loss: 0.009554789246701355\n",
      "Epoch 4, Loss: 0.00949325352839665\n",
      "Epoch 5, Loss: 0.009486966731666184\n",
      "Epoch 6, Loss: 0.009474638343127425\n",
      "Epoch 7, Loss: 0.00946130996236383\n",
      "Epoch 8, Loss: 0.009454996045083125\n",
      "Epoch 9, Loss: 0.00946445627185677\n",
      "Epoch 10, Loss: 0.009455758345517904\n"
     ]
    }
   ],
   "source": [
    "\n",
    "# 定义欠完备自编码器模型\n",
    "class Autoencoder(nn.Module):\n",
    "    def __init__(self):\n",
    "        super(Autoencoder, self).__init__()\n",
    "        self.encoder = nn.Linear(28*28, 64)  # 输入层28×28个神经元 -> 隐含层8×8个神经元\n",
    "        self.decoder = nn.Linear(64, 28*28)  # 隐含层8×8个神经元 -> 输出层28×28个神经元\n",
    "\n",
    "    def forward(self, x):\n",
    "        x = x.view(x.size(0), -1)\n",
    "        x = self.encoder(x)\n",
    "        x = self.decoder(x)\n",
    "        x = x.view(x.size(0), 1, 28, 28)\n",
    "        return x\n",
    "\n",
    "# 实例化欠完备自编码器模型\n",
    "autoencoder = Autoencoder()\n",
    "\n",
    "# 定义损失函数和优化器\n",
    "criterion = nn.MSELoss()\n",
    "optimizer = torch.optim.Adam(autoencoder.parameters(), lr=0.001)\n",
    "\n",
    "# 训练欠完备自编码器\n",
    "for epoch in range(10):\n",
    "    running_loss = 0.0\n",
    "    for data in trainloader:\n",
    "        inputs, _ = data\n",
    "        optimizer.zero_grad()\n",
    "        outputs = autoencoder(inputs)\n",
    "        loss = criterion(outputs, inputs)\n",
    "        loss.backward()\n",
    "        optimizer.step()\n",
    "        running_loss += loss.item()\n",
    "    print(f\"Epoch {epoch+1}, Loss: {running_loss / len(trainloader)}\")"
   ]
  },
  {
   "cell_type": "code",
   "execution_count": 4,
   "metadata": {},
   "outputs": [],
   "source": [
    "# 显示输入数据、编码后的数据和解码后的数据\n",
    "inputs, _ = next(iter(trainloader))\n",
    "encoded = autoencoder.encoder(inputs.view(-1, 28*28))\n",
    "decoded = autoencoder(inputs)\n"
   ]
  },
  {
   "cell_type": "code",
   "execution_count": 34,
   "metadata": {},
   "outputs": [
    {
     "data": {
      "image/png": "[encoded data removed]",
      "text/plain": [
       "<Figure size 640x480 with 3 Axes>"
      ]
     },
     "metadata": {},
     "output_type": "display_data"
    }
   ],
   "source": [
    "i=27\n",
    "\n",
    "it = inputs[i,0,:,:].detach().numpy()\n",
    "ed = encoded[i,:].detach().numpy()\n",
    "dd = decoded[i,0,:,:].detach().numpy()\n",
    "\n",
    "#原图像\n",
    "plt.subplot(1,3,1)\n",
    "plt.imshow(it, cmap='Greys_r')\n",
    "plt.title(\"input\")\n",
    "\n",
    "#编码图\n",
    "plt.subplot(1,3,2)\n",
    "plt.imshow(ed.reshape(8,8), cmap='Greys_r')\n",
    "plt.title(\"encoded\")\n",
    "\n",
    "#解码图\n",
    "plt.subplot(1,3,3)\n",
    "plt.imshow(dd, cmap='Greys_r')\n",
    "plt.title(\"decoded\")\n",
    "\n",
    "plt.show()\n"
   ]
  },
  {
   "cell_type": "code",
   "execution_count": 79,
   "metadata": {},
   "outputs": [
    {
     "ename": "SyntaxError",
     "evalue": "invalid syntax (3786368935.py, line 2)",
     "output_type": "error",
     "traceback": [
      "\u001b[1;36m  Cell \u001b[1;32mIn[79], line 2\u001b[1;36m\u001b[0m\n\u001b[1;33m    for i in range(4)\u001b[0m\n\u001b[1;37m                     ^\u001b[0m\n\u001b[1;31mSyntaxError\u001b[0m\u001b[1;31m:\u001b[0m invalid syntax\n"
     ]
    }
   ],
   "source": [
    "fig, axes = plt.subplots(nrows=3, ncols=5)\n",
    "for i in range(4):\n",
    "\n",
    "    it = inputs[i,0,:,:].detach().numpy()\n",
    "    ed = encoded[i,:].detach().numpy()\n",
    "    dd = decoded[i,0,:,:].detach().numpy()\n",
    "\n",
    "    #原图像\n",
    "    for img, ax in zip(it, axes[0]):\n",
    "        ax.imshow(img, cmap='Greys_r')\n",
    "        plt.title(\"input\")\n",
    "\n",
    "    #编码图\n",
    "    for img, ax in zip(ed, axes[1]):\n",
    "        plt.title(\"encoded\")\n",
    "\n",
    "    #解码图\n",
    "    for img, ax in zip(dd, axes[2]):\n",
    "        plt.title(\"decoded\")\n",
    "        \n",
    "\n",
    "plt.show()"
   ]
  },
  {
   "cell_type": "code",
   "execution_count": null,
   "metadata": {},
   "outputs": [],
   "source": [
    "\n",
    "def show_images(input, encoded, decoded):\n",
    "    input = input.detach().numpy()\n",
    "    encoded = encoded.detach().numpy()\n",
    "    decoded = decoded.detach().numpy()\n",
    "    \n",
    "    fig, axes = plt.subplots(nrows=3, ncols=10, sharex=True, sharey=True, figsize=(20, 6))\n",
    "'''\n",
    "    for images, row in zip([input, encoded, decoded], axes):\n",
    "        for img, ax in zip(images, row):\n",
    "            ax.imshow(img.reshape((28, 28)), cmap='Greys_r')\n",
    "            ax.get_xaxis().set_visible(False)\n",
    "            ax.get_yaxis().set_visible(False)'''\n",
    "\n",
    "fig.tight_layout(pad=0.1)\n",
    "\n",
    "show_images(inputs, encoded.view(-1, 8, 8), decoded.view(-1, 28, 28))\n",
    "plt.show()"
   ]
  },
  {
   "cell_type": "code",
   "execution_count": null,
   "metadata": {},
   "outputs": [],
   "source": [
    "def show_images(input, encoded, decoded):\n",
    "    input = input.detach().numpy()\n",
    "    encoded = encoded.detach().numpy()\n",
    "    decoded = decoded.detach().numpy()\n",
    "\n",
    "    fig, axes = plt.subplots(nrows=3, ncols=5, figsize=(20, 6))\n",
    "\n",
    "    for img, ax in zip(input, axes[0]):\n",
    "        ax.imshow(img, cmap='Greys_r')\n",
    "        ax.get_xaxis().set_visible(False)\n",
    "        ax.get_yaxis().set_visible(False)\n",
    "\n",
    "    for img, ax in zip(encoded, axes[1]):\n",
    "        ax.imshow(img, cmap='Greys_r')\n",
    "        ax.get_xaxis().set_visible(False)\n",
    "        ax.get_yaxis().set_visible(False)\n",
    "\n",
    "    for img, ax in zip(decoded, axes[2]):\n",
    "        ax.imshow(img, cmap='Greys_r')\n",
    "        ax.get_xaxis().set_visible(False)\n",
    "        ax.get_yaxis().set_visible(False)\n",
    "\n",
    "    fig.tight_layout(pad=0.1)\n",
    "\n",
    "show_images(inputs, encoded, decoded)\n",
    "plt.show()"
   ]
  },
  {
   "cell_type": "code",
   "execution_count": 83,
   "metadata": {},
   "outputs": [
    {
     "name": "stdout",
     "output_type": "stream",
     "text": [
      "tensor([[ 2.1189e-02, -1.2101e-02,  6.6696e-03,  ..., -2.6003e-02,\n",
      "         -1.9760e-02, -5.4431e-03],\n",
      "        [-8.6134e-03, -1.9795e-02, -3.5045e-02,  ...,  2.1108e-02,\n",
      "         -1.7733e-03,  2.8077e-02],\n",
      "        [ 2.8200e-03, -1.9115e-02, -2.0766e-02,  ..., -1.9777e-02,\n",
      "          8.6565e-05, -1.0837e-02],\n",
      "        ...,\n",
      "        [ 4.7987e-03,  3.2179e-02,  2.2448e-02,  ..., -1.7724e-02,\n",
      "         -3.9314e-03, -1.9581e-02],\n",
      "        [ 2.7859e-02,  3.2240e-02,  4.6959e-03,  ...,  8.6013e-03,\n",
      "          2.8493e-02,  2.3925e-02],\n",
      "        [ 4.3335e-03,  2.3968e-02, -3.4432e-02,  ..., -1.2789e-02,\n",
      "         -2.6241e-03,  1.8845e-02]])\n"
     ]
    }
   ],
   "source": [
    "# 获取自编码器模型的编码器部分\n",
    "encoder = autoencoder.encoder\n",
    "# 获取输入层到隐含层的权重参数\n",
    "input_to_hidden_weights = encoder.state_dict()['weight']\n",
    "\n",
    "print(input_to_hidden_weights)"
   ]
  }
 ],
 "metadata": {
  "kernelspec": {
   "display_name": "DL",
   "language": "python",
   "name": "python3"
  },
  "language_info": {
   "codemirror_mode": {
    "name": "ipython",
    "version": 3
   },
   "file_extension": ".py",
   "mimetype": "text/x-python",
   "name": "python",
   "nbconvert_exporter": "python",
   "pygments_lexer": "ipython3",
   "version": "3.9.17"
  },
  "orig_nbformat": 4
 },
 "nbformat": 4,
 "nbformat_minor": 2
}
